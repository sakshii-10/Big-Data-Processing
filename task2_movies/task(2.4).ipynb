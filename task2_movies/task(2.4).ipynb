{
 "cells": [
  {
   "cell_type": "code",
   "execution_count": null,
   "id": "46f6a2a4-d134-4159-8470-1750a785b97d",
   "metadata": {},
   "outputs": [],
   "source": [
    "# Convert timestamp and extract year and month\n",
    "ratings_time = ratings_df.withColumn(\"timestamp_dt\", to_timestamp(from_unixtime(col(\"timestamp\")))) \\\n",
    "    .withColumn(\"year\", year(col(\"timestamp_dt\"))) \\\n",
    "    .withColumn(\"month\", month(col(\"timestamp_dt\")))\n",
    "\n",
    "# Categorize as Early Year or Late Year\n",
    "ratings_time = ratings_time.withColumn(\"time_of_year\", \n",
    "    when((col(\"month\") >= 1) & (col(\"month\") <= 6), \"Early Year\")\n",
    "    .otherwise(\"Late Year\"))\n",
    "\n",
    "# Show 10 rows\n",
    "print(\"\\nSample Rows with Year, Month, Time of Year:\")\n",
    "ratings_time.select(\"userId\", \"movieId\", \"rating\", \"timestamp\", \"year\", \"month\", \"time_of_year\").show(10, truncate=False)\n",
    "\n",
    "# Count ratings in each half of the year\n",
    "time_grouped = ratings_time.groupBy(\"time_of_year\").agg(count(\"*\").alias(\"rating_count\")).orderBy(\"time_of_year\")\n",
    "print(\"\\nNumber of Ratings by Time of Year:\")\n",
    "time_grouped.show()\n",
    "\n",
    "# Save to S3\n",
    "output_time_path = f\"s3a://{s3_bucket}/time_of_year_rating_distribution.csv\"\n",
    "time_grouped.coalesce(1).write.mode(\"overwrite\").csv(output_time_path, header=True)\n",
    "print(f\"\\nTime of year distribution saved to: {output_time_path}\")"
   ]
  }
 ],
 "metadata": {
  "kernelspec": {
   "display_name": "Python 3 (ipykernel)",
   "language": "python",
   "name": "python3"
  },
  "language_info": {
   "codemirror_mode": {
    "name": "ipython",
    "version": 3
   },
   "file_extension": ".py",
   "mimetype": "text/x-python",
   "name": "python",
   "nbconvert_exporter": "python",
   "pygments_lexer": "ipython3",
   "version": "3.11.7"
  }
 },
 "nbformat": 4,
 "nbformat_minor": 5
}
